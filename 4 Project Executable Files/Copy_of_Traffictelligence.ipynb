{
  "cells": [
    {
      "cell_type": "code",
      "execution_count": 140,
      "metadata": {
        "id": "jAQTxUYxr7TN"
      },
      "outputs": [],
      "source": [
        "#importing the necessary libraries\n",
        "import pandas as pd\n",
        "import numpy as np\n",
        "import seaborn as sns\n",
        "import sklearn as sk\n",
        "from sklearn import linear_model\n",
        "from sklearn import tree\n",
        "from sklearn import ensemble\n",
        "from sklearn import svm\n",
        "import xgboost"
      ]
    },
    {
      "cell_type": "code",
      "execution_count": 155,
      "metadata": {
        "colab": {
          "base_uri": "https://localhost:8080/",
          "height": 141
        },
        "id": "1PhoVUdcpDBw",
        "outputId": "40b70230-2468-4c2c-dd3a-95f0bfe0547e"
      },
      "outputs": [],
      "source": [
        "data = pd.read_csv(r\"traffic_volume.csv\")"
      ]
    },
    {
      "cell_type": "code",
      "execution_count": 156,
      "metadata": {},
      "outputs": [
        {
          "data": {
            "text/html": [
              "<div>\n",
              "<style scoped>\n",
              "    .dataframe tbody tr th:only-of-type {\n",
              "        vertical-align: middle;\n",
              "    }\n",
              "\n",
              "    .dataframe tbody tr th {\n",
              "        vertical-align: top;\n",
              "    }\n",
              "\n",
              "    .dataframe thead th {\n",
              "        text-align: right;\n",
              "    }\n",
              "</style>\n",
              "<table border=\"1\" class=\"dataframe\">\n",
              "  <thead>\n",
              "    <tr style=\"text-align: right;\">\n",
              "      <th></th>\n",
              "      <th>holiday</th>\n",
              "      <th>temp</th>\n",
              "      <th>rain</th>\n",
              "      <th>snow</th>\n",
              "      <th>weather</th>\n",
              "      <th>date</th>\n",
              "      <th>Time</th>\n",
              "      <th>traffic_volume</th>\n",
              "    </tr>\n",
              "  </thead>\n",
              "  <tbody>\n",
              "    <tr>\n",
              "      <th>0</th>\n",
              "      <td>NaN</td>\n",
              "      <td>288.28</td>\n",
              "      <td>0.0</td>\n",
              "      <td>0.0</td>\n",
              "      <td>Clouds</td>\n",
              "      <td>02-10-2012</td>\n",
              "      <td>09:00:00</td>\n",
              "      <td>5545</td>\n",
              "    </tr>\n",
              "    <tr>\n",
              "      <th>1</th>\n",
              "      <td>NaN</td>\n",
              "      <td>289.36</td>\n",
              "      <td>0.0</td>\n",
              "      <td>0.0</td>\n",
              "      <td>Clouds</td>\n",
              "      <td>02-10-2012</td>\n",
              "      <td>10:00:00</td>\n",
              "      <td>4516</td>\n",
              "    </tr>\n",
              "    <tr>\n",
              "      <th>2</th>\n",
              "      <td>NaN</td>\n",
              "      <td>289.58</td>\n",
              "      <td>0.0</td>\n",
              "      <td>0.0</td>\n",
              "      <td>Clouds</td>\n",
              "      <td>02-10-2012</td>\n",
              "      <td>11:00:00</td>\n",
              "      <td>4767</td>\n",
              "    </tr>\n",
              "    <tr>\n",
              "      <th>3</th>\n",
              "      <td>NaN</td>\n",
              "      <td>290.13</td>\n",
              "      <td>0.0</td>\n",
              "      <td>0.0</td>\n",
              "      <td>Clouds</td>\n",
              "      <td>02-10-2012</td>\n",
              "      <td>12:00:00</td>\n",
              "      <td>5026</td>\n",
              "    </tr>\n",
              "    <tr>\n",
              "      <th>4</th>\n",
              "      <td>NaN</td>\n",
              "      <td>291.14</td>\n",
              "      <td>0.0</td>\n",
              "      <td>0.0</td>\n",
              "      <td>Clouds</td>\n",
              "      <td>02-10-2012</td>\n",
              "      <td>13:00:00</td>\n",
              "      <td>4918</td>\n",
              "    </tr>\n",
              "    <tr>\n",
              "      <th>...</th>\n",
              "      <td>...</td>\n",
              "      <td>...</td>\n",
              "      <td>...</td>\n",
              "      <td>...</td>\n",
              "      <td>...</td>\n",
              "      <td>...</td>\n",
              "      <td>...</td>\n",
              "      <td>...</td>\n",
              "    </tr>\n",
              "    <tr>\n",
              "      <th>48199</th>\n",
              "      <td>NaN</td>\n",
              "      <td>283.45</td>\n",
              "      <td>0.0</td>\n",
              "      <td>0.0</td>\n",
              "      <td>Clouds</td>\n",
              "      <td>30-09-2018</td>\n",
              "      <td>19:00:00</td>\n",
              "      <td>3543</td>\n",
              "    </tr>\n",
              "    <tr>\n",
              "      <th>48200</th>\n",
              "      <td>NaN</td>\n",
              "      <td>282.76</td>\n",
              "      <td>0.0</td>\n",
              "      <td>0.0</td>\n",
              "      <td>Clouds</td>\n",
              "      <td>30-09-2018</td>\n",
              "      <td>20:00:00</td>\n",
              "      <td>2781</td>\n",
              "    </tr>\n",
              "    <tr>\n",
              "      <th>48201</th>\n",
              "      <td>NaN</td>\n",
              "      <td>282.73</td>\n",
              "      <td>0.0</td>\n",
              "      <td>0.0</td>\n",
              "      <td>Thunderstorm</td>\n",
              "      <td>30-09-2018</td>\n",
              "      <td>21:00:00</td>\n",
              "      <td>2159</td>\n",
              "    </tr>\n",
              "    <tr>\n",
              "      <th>48202</th>\n",
              "      <td>NaN</td>\n",
              "      <td>282.09</td>\n",
              "      <td>0.0</td>\n",
              "      <td>0.0</td>\n",
              "      <td>Clouds</td>\n",
              "      <td>30-09-2018</td>\n",
              "      <td>22:00:00</td>\n",
              "      <td>1450</td>\n",
              "    </tr>\n",
              "    <tr>\n",
              "      <th>48203</th>\n",
              "      <td>NaN</td>\n",
              "      <td>282.12</td>\n",
              "      <td>0.0</td>\n",
              "      <td>0.0</td>\n",
              "      <td>Clouds</td>\n",
              "      <td>30-09-2018</td>\n",
              "      <td>23:00:00</td>\n",
              "      <td>954</td>\n",
              "    </tr>\n",
              "  </tbody>\n",
              "</table>\n",
              "<p>48204 rows × 8 columns</p>\n",
              "</div>"
            ],
            "text/plain": [
              "      holiday    temp  rain  snow       weather        date      Time  \\\n",
              "0         NaN  288.28   0.0   0.0        Clouds  02-10-2012  09:00:00   \n",
              "1         NaN  289.36   0.0   0.0        Clouds  02-10-2012  10:00:00   \n",
              "2         NaN  289.58   0.0   0.0        Clouds  02-10-2012  11:00:00   \n",
              "3         NaN  290.13   0.0   0.0        Clouds  02-10-2012  12:00:00   \n",
              "4         NaN  291.14   0.0   0.0        Clouds  02-10-2012  13:00:00   \n",
              "...       ...     ...   ...   ...           ...         ...       ...   \n",
              "48199     NaN  283.45   0.0   0.0        Clouds  30-09-2018  19:00:00   \n",
              "48200     NaN  282.76   0.0   0.0        Clouds  30-09-2018  20:00:00   \n",
              "48201     NaN  282.73   0.0   0.0  Thunderstorm  30-09-2018  21:00:00   \n",
              "48202     NaN  282.09   0.0   0.0        Clouds  30-09-2018  22:00:00   \n",
              "48203     NaN  282.12   0.0   0.0        Clouds  30-09-2018  23:00:00   \n",
              "\n",
              "       traffic_volume  \n",
              "0                5545  \n",
              "1                4516  \n",
              "2                4767  \n",
              "3                5026  \n",
              "4                4918  \n",
              "...               ...  \n",
              "48199            3543  \n",
              "48200            2781  \n",
              "48201            2159  \n",
              "48202            1450  \n",
              "48203             954  \n",
              "\n",
              "[48204 rows x 8 columns]"
            ]
          },
          "execution_count": 156,
          "metadata": {},
          "output_type": "execute_result"
        }
      ],
      "source": [
        "data"
      ]
    },
    {
      "cell_type": "code",
      "execution_count": 157,
      "metadata": {
        "colab": {
          "base_uri": "https://localhost:8080/",
          "height": 141
        },
        "id": "lpRH0R-CrsDP",
        "outputId": "781e911c-60ef-47c5-88d4-60edda30f715"
      },
      "outputs": [
        {
          "data": {
            "text/html": [
              "<div>\n",
              "<style scoped>\n",
              "    .dataframe tbody tr th:only-of-type {\n",
              "        vertical-align: middle;\n",
              "    }\n",
              "\n",
              "    .dataframe tbody tr th {\n",
              "        vertical-align: top;\n",
              "    }\n",
              "\n",
              "    .dataframe thead th {\n",
              "        text-align: right;\n",
              "    }\n",
              "</style>\n",
              "<table border=\"1\" class=\"dataframe\">\n",
              "  <thead>\n",
              "    <tr style=\"text-align: right;\">\n",
              "      <th></th>\n",
              "      <th>holiday</th>\n",
              "      <th>temp</th>\n",
              "      <th>rain</th>\n",
              "      <th>snow</th>\n",
              "      <th>weather</th>\n",
              "      <th>date</th>\n",
              "      <th>Time</th>\n",
              "      <th>traffic_volume</th>\n",
              "    </tr>\n",
              "  </thead>\n",
              "  <tbody>\n",
              "    <tr>\n",
              "      <th>0</th>\n",
              "      <td>NaN</td>\n",
              "      <td>288.28</td>\n",
              "      <td>0.0</td>\n",
              "      <td>0.0</td>\n",
              "      <td>Clouds</td>\n",
              "      <td>02-10-2012</td>\n",
              "      <td>09:00:00</td>\n",
              "      <td>5545</td>\n",
              "    </tr>\n",
              "    <tr>\n",
              "      <th>1</th>\n",
              "      <td>NaN</td>\n",
              "      <td>289.36</td>\n",
              "      <td>0.0</td>\n",
              "      <td>0.0</td>\n",
              "      <td>Clouds</td>\n",
              "      <td>02-10-2012</td>\n",
              "      <td>10:00:00</td>\n",
              "      <td>4516</td>\n",
              "    </tr>\n",
              "    <tr>\n",
              "      <th>2</th>\n",
              "      <td>NaN</td>\n",
              "      <td>289.58</td>\n",
              "      <td>0.0</td>\n",
              "      <td>0.0</td>\n",
              "      <td>Clouds</td>\n",
              "      <td>02-10-2012</td>\n",
              "      <td>11:00:00</td>\n",
              "      <td>4767</td>\n",
              "    </tr>\n",
              "    <tr>\n",
              "      <th>3</th>\n",
              "      <td>NaN</td>\n",
              "      <td>290.13</td>\n",
              "      <td>0.0</td>\n",
              "      <td>0.0</td>\n",
              "      <td>Clouds</td>\n",
              "      <td>02-10-2012</td>\n",
              "      <td>12:00:00</td>\n",
              "      <td>5026</td>\n",
              "    </tr>\n",
              "    <tr>\n",
              "      <th>4</th>\n",
              "      <td>NaN</td>\n",
              "      <td>291.14</td>\n",
              "      <td>0.0</td>\n",
              "      <td>0.0</td>\n",
              "      <td>Clouds</td>\n",
              "      <td>02-10-2012</td>\n",
              "      <td>13:00:00</td>\n",
              "      <td>4918</td>\n",
              "    </tr>\n",
              "  </tbody>\n",
              "</table>\n",
              "</div>"
            ],
            "text/plain": [
              "  holiday    temp  rain  snow weather        date      Time  traffic_volume\n",
              "0     NaN  288.28   0.0   0.0  Clouds  02-10-2012  09:00:00            5545\n",
              "1     NaN  289.36   0.0   0.0  Clouds  02-10-2012  10:00:00            4516\n",
              "2     NaN  289.58   0.0   0.0  Clouds  02-10-2012  11:00:00            4767\n",
              "3     NaN  290.13   0.0   0.0  Clouds  02-10-2012  12:00:00            5026\n",
              "4     NaN  291.14   0.0   0.0  Clouds  02-10-2012  13:00:00            4918"
            ]
          },
          "execution_count": 157,
          "metadata": {},
          "output_type": "execute_result"
        }
      ],
      "source": [
        "data.head()"
      ]
    },
    {
      "cell_type": "code",
      "execution_count": 158,
      "metadata": {
        "id": "9pqJPp4NIaP3"
      },
      "outputs": [
        {
          "data": {
            "text/html": [
              "<div>\n",
              "<style scoped>\n",
              "    .dataframe tbody tr th:only-of-type {\n",
              "        vertical-align: middle;\n",
              "    }\n",
              "\n",
              "    .dataframe tbody tr th {\n",
              "        vertical-align: top;\n",
              "    }\n",
              "\n",
              "    .dataframe thead th {\n",
              "        text-align: right;\n",
              "    }\n",
              "</style>\n",
              "<table border=\"1\" class=\"dataframe\">\n",
              "  <thead>\n",
              "    <tr style=\"text-align: right;\">\n",
              "      <th></th>\n",
              "      <th>holiday</th>\n",
              "      <th>temp</th>\n",
              "      <th>rain</th>\n",
              "      <th>snow</th>\n",
              "      <th>weather</th>\n",
              "      <th>date</th>\n",
              "      <th>Time</th>\n",
              "      <th>traffic_volume</th>\n",
              "    </tr>\n",
              "  </thead>\n",
              "  <tbody>\n",
              "    <tr>\n",
              "      <th>48199</th>\n",
              "      <td>NaN</td>\n",
              "      <td>283.45</td>\n",
              "      <td>0.0</td>\n",
              "      <td>0.0</td>\n",
              "      <td>Clouds</td>\n",
              "      <td>30-09-2018</td>\n",
              "      <td>19:00:00</td>\n",
              "      <td>3543</td>\n",
              "    </tr>\n",
              "    <tr>\n",
              "      <th>48200</th>\n",
              "      <td>NaN</td>\n",
              "      <td>282.76</td>\n",
              "      <td>0.0</td>\n",
              "      <td>0.0</td>\n",
              "      <td>Clouds</td>\n",
              "      <td>30-09-2018</td>\n",
              "      <td>20:00:00</td>\n",
              "      <td>2781</td>\n",
              "    </tr>\n",
              "    <tr>\n",
              "      <th>48201</th>\n",
              "      <td>NaN</td>\n",
              "      <td>282.73</td>\n",
              "      <td>0.0</td>\n",
              "      <td>0.0</td>\n",
              "      <td>Thunderstorm</td>\n",
              "      <td>30-09-2018</td>\n",
              "      <td>21:00:00</td>\n",
              "      <td>2159</td>\n",
              "    </tr>\n",
              "    <tr>\n",
              "      <th>48202</th>\n",
              "      <td>NaN</td>\n",
              "      <td>282.09</td>\n",
              "      <td>0.0</td>\n",
              "      <td>0.0</td>\n",
              "      <td>Clouds</td>\n",
              "      <td>30-09-2018</td>\n",
              "      <td>22:00:00</td>\n",
              "      <td>1450</td>\n",
              "    </tr>\n",
              "    <tr>\n",
              "      <th>48203</th>\n",
              "      <td>NaN</td>\n",
              "      <td>282.12</td>\n",
              "      <td>0.0</td>\n",
              "      <td>0.0</td>\n",
              "      <td>Clouds</td>\n",
              "      <td>30-09-2018</td>\n",
              "      <td>23:00:00</td>\n",
              "      <td>954</td>\n",
              "    </tr>\n",
              "  </tbody>\n",
              "</table>\n",
              "</div>"
            ],
            "text/plain": [
              "      holiday    temp  rain  snow       weather        date      Time  \\\n",
              "48199     NaN  283.45   0.0   0.0        Clouds  30-09-2018  19:00:00   \n",
              "48200     NaN  282.76   0.0   0.0        Clouds  30-09-2018  20:00:00   \n",
              "48201     NaN  282.73   0.0   0.0  Thunderstorm  30-09-2018  21:00:00   \n",
              "48202     NaN  282.09   0.0   0.0        Clouds  30-09-2018  22:00:00   \n",
              "48203     NaN  282.12   0.0   0.0        Clouds  30-09-2018  23:00:00   \n",
              "\n",
              "       traffic_volume  \n",
              "48199            3543  \n",
              "48200            2781  \n",
              "48201            2159  \n",
              "48202            1450  \n",
              "48203             954  "
            ]
          },
          "execution_count": 158,
          "metadata": {},
          "output_type": "execute_result"
        }
      ],
      "source": [
        "data.tail()"
      ]
    },
    {
      "cell_type": "code",
      "execution_count": 159,
      "metadata": {
        "id": "4ysNa8d1ImC4"
      },
      "outputs": [
        {
          "data": {
            "text/plain": [
              "Index(['holiday', 'temp', 'rain', 'snow', 'weather', 'date', 'Time',\n",
              "       'traffic_volume'],\n",
              "      dtype='object')"
            ]
          },
          "execution_count": 159,
          "metadata": {},
          "output_type": "execute_result"
        }
      ],
      "source": [
        "data.columns"
      ]
    },
    {
      "cell_type": "code",
      "execution_count": 160,
      "metadata": {
        "id": "Fu2grlvkIrTT"
      },
      "outputs": [
        {
          "data": {
            "text/plain": [
              "(48204, 8)"
            ]
          },
          "execution_count": 160,
          "metadata": {},
          "output_type": "execute_result"
        }
      ],
      "source": [
        "data.shape"
      ]
    },
    {
      "cell_type": "code",
      "execution_count": 161,
      "metadata": {
        "id": "gaZItwXrKaim"
      },
      "outputs": [
        {
          "data": {
            "text/html": [
              "<div>\n",
              "<style scoped>\n",
              "    .dataframe tbody tr th:only-of-type {\n",
              "        vertical-align: middle;\n",
              "    }\n",
              "\n",
              "    .dataframe tbody tr th {\n",
              "        vertical-align: top;\n",
              "    }\n",
              "\n",
              "    .dataframe thead th {\n",
              "        text-align: right;\n",
              "    }\n",
              "</style>\n",
              "<table border=\"1\" class=\"dataframe\">\n",
              "  <thead>\n",
              "    <tr style=\"text-align: right;\">\n",
              "      <th></th>\n",
              "      <th>temp</th>\n",
              "      <th>rain</th>\n",
              "      <th>snow</th>\n",
              "      <th>traffic_volume</th>\n",
              "    </tr>\n",
              "  </thead>\n",
              "  <tbody>\n",
              "    <tr>\n",
              "      <th>count</th>\n",
              "      <td>48151.000000</td>\n",
              "      <td>48202.000000</td>\n",
              "      <td>48192.000000</td>\n",
              "      <td>48204.000000</td>\n",
              "    </tr>\n",
              "    <tr>\n",
              "      <th>mean</th>\n",
              "      <td>281.205351</td>\n",
              "      <td>0.334278</td>\n",
              "      <td>0.000222</td>\n",
              "      <td>3259.818355</td>\n",
              "    </tr>\n",
              "    <tr>\n",
              "      <th>std</th>\n",
              "      <td>13.343675</td>\n",
              "      <td>44.790062</td>\n",
              "      <td>0.008169</td>\n",
              "      <td>1986.860670</td>\n",
              "    </tr>\n",
              "    <tr>\n",
              "      <th>min</th>\n",
              "      <td>0.000000</td>\n",
              "      <td>0.000000</td>\n",
              "      <td>0.000000</td>\n",
              "      <td>0.000000</td>\n",
              "    </tr>\n",
              "    <tr>\n",
              "      <th>25%</th>\n",
              "      <td>272.160000</td>\n",
              "      <td>0.000000</td>\n",
              "      <td>0.000000</td>\n",
              "      <td>1193.000000</td>\n",
              "    </tr>\n",
              "    <tr>\n",
              "      <th>50%</th>\n",
              "      <td>282.460000</td>\n",
              "      <td>0.000000</td>\n",
              "      <td>0.000000</td>\n",
              "      <td>3380.000000</td>\n",
              "    </tr>\n",
              "    <tr>\n",
              "      <th>75%</th>\n",
              "      <td>291.810000</td>\n",
              "      <td>0.000000</td>\n",
              "      <td>0.000000</td>\n",
              "      <td>4933.000000</td>\n",
              "    </tr>\n",
              "    <tr>\n",
              "      <th>max</th>\n",
              "      <td>310.070000</td>\n",
              "      <td>9831.300000</td>\n",
              "      <td>0.510000</td>\n",
              "      <td>7280.000000</td>\n",
              "    </tr>\n",
              "  </tbody>\n",
              "</table>\n",
              "</div>"
            ],
            "text/plain": [
              "               temp          rain          snow  traffic_volume\n",
              "count  48151.000000  48202.000000  48192.000000    48204.000000\n",
              "mean     281.205351      0.334278      0.000222     3259.818355\n",
              "std       13.343675     44.790062      0.008169     1986.860670\n",
              "min        0.000000      0.000000      0.000000        0.000000\n",
              "25%      272.160000      0.000000      0.000000     1193.000000\n",
              "50%      282.460000      0.000000      0.000000     3380.000000\n",
              "75%      291.810000      0.000000      0.000000     4933.000000\n",
              "max      310.070000   9831.300000      0.510000     7280.000000"
            ]
          },
          "execution_count": 161,
          "metadata": {},
          "output_type": "execute_result"
        }
      ],
      "source": [
        "data.describe()"
      ]
    },
    {
      "cell_type": "code",
      "execution_count": 162,
      "metadata": {
        "id": "boePukXUIwrp"
      },
      "outputs": [
        {
          "data": {
            "text/plain": [
              "holiday            object\n",
              "temp              float64\n",
              "rain              float64\n",
              "snow              float64\n",
              "weather            object\n",
              "date               object\n",
              "Time               object\n",
              "traffic_volume      int64\n",
              "dtype: object"
            ]
          },
          "execution_count": 162,
          "metadata": {},
          "output_type": "execute_result"
        }
      ],
      "source": [
        "data.dtypes"
      ]
    },
    {
      "cell_type": "code",
      "execution_count": 163,
      "metadata": {
        "id": "r4hk53IvslWX"
      },
      "outputs": [
        {
          "name": "stdout",
          "output_type": "stream",
          "text": [
            "<class 'pandas.core.frame.DataFrame'>\n",
            "RangeIndex: 48204 entries, 0 to 48203\n",
            "Data columns (total 8 columns):\n",
            " #   Column          Non-Null Count  Dtype  \n",
            "---  ------          --------------  -----  \n",
            " 0   holiday         61 non-null     object \n",
            " 1   temp            48151 non-null  float64\n",
            " 2   rain            48202 non-null  float64\n",
            " 3   snow            48192 non-null  float64\n",
            " 4   weather         48155 non-null  object \n",
            " 5   date            48204 non-null  object \n",
            " 6   Time            48204 non-null  object \n",
            " 7   traffic_volume  48204 non-null  int64  \n",
            "dtypes: float64(3), int64(1), object(4)\n",
            "memory usage: 2.9+ MB\n"
          ]
        }
      ],
      "source": [
        "data.info()"
      ]
    },
    {
      "cell_type": "code",
      "execution_count": 164,
      "metadata": {
        "id": "fWYL6LmrtLdu"
      },
      "outputs": [
        {
          "data": {
            "text/plain": [
              "holiday           48143\n",
              "temp                 53\n",
              "rain                  2\n",
              "snow                 12\n",
              "weather              49\n",
              "date                  0\n",
              "Time                  0\n",
              "traffic_volume        0\n",
              "dtype: int64"
            ]
          },
          "execution_count": 164,
          "metadata": {},
          "output_type": "execute_result"
        }
      ],
      "source": [
        "data.isnull().sum()"
      ]
    },
    {
      "cell_type": "code",
      "execution_count": 165,
      "metadata": {
        "id": "LNWGQ952u4tU"
      },
      "outputs": [
        {
          "name": "stdout",
          "output_type": "stream",
          "text": [
            "Counter({0.0: 44735, 0.25: 948, 0.51: 256, 1.02: 123, 0.3: 121, 0.76: 109, 0.38: 99, 1.78: 91, 1.52: 69, 0.64: 55, 1.27: 50, 0.6: 32, 2.79: 29, 0.44: 26, 0.89: 25, 2.54: 23, 0.28: 23, 0.42: 21, 1.4: 21, 0.34: 20, 2.16: 19, 2.29: 19, 2.03: 19, 1.8: 16, 1.09: 16, 3.05: 15, 0.32: 15, 1.2: 15, 0.9: 15, 0.98: 14, 0.68: 13, 0.81: 13, 4.57: 13, 7.11: 12, 0.85: 12, 0.7: 11, 2.1: 11, 0.55: 11, 5.59: 10, 1.86: 10, 8.4: 10, 1.15: 10, 0.47: 9, 5.08: 9, 1.21: 9, 0.43: 9, 6.1: 9, 5.84: 8, 1.66: 8, 0.79: 8, 0.4: 8, 1.14: 8, 2.2: 8, 1.85: 8, 2.41: 8, 3.3: 8, 1.41: 7, 6.6: 7, 0.35: 7, 1.91: 7, 0.52: 7, 1.3: 7, 0.8: 7, 0.66: 7, 2.67: 7, 1.33: 7, 1.1: 7, 4.06: 7, 0.57: 6, 0.29: 6, 0.36: 6, 1.0: 6, 1.44: 6, 8.64: 6, 1.35: 6, 5.97: 6, 0.56: 6, 0.91: 6, 0.54: 6, 0.94: 6, 0.96: 6, 2.86: 6, 0.78: 6, 2.22: 6, 6.35: 6, 4.89: 6, 0.93: 6, 3.13: 6, 0.63: 6, 2.62: 6, 1.6: 6, 4.74: 6, 2.76: 6, 3.45: 6, 0.69: 5, 3.18: 5, 0.61: 5, 5.42: 5, 1.39: 5, 0.53: 5, 0.48: 5, 0.59: 5, 0.71: 5, 0.27: 5, 2.85: 5, 0.65: 5, 1.5: 5, 3.41: 5, 4.29: 5, 1.72: 5, 2.61: 5, 1.69: 5, 4.15: 5, 9.62: 5, 0.84: 4, 6.94: 4, 4.32: 4, 1.68: 4, 0.41: 4, 1.06: 4, 2.05: 4, 0.88: 4, 4.45: 4, 5.46: 4, 2.7: 4, 4.21: 4, 9.9: 4, 0.86: 4, 5.92: 4, 10.67: 4, 13.46: 4, 3.94: 4, 20.07: 4, 3.27: 4, 4.0: 4, 2.92: 4, 10.6: 4, 1.34: 3, 1.84: 3, 1.7: 3, 5.74: 3, 4.98: 3, 3.65: 3, 12.19: 3, 7.54: 3, 16.38: 3, 1.65: 3, 3.81: 3, 7.37: 3, 10.54: 3, 19.9: 3, 25.32: 3, 21.42: 3, 9.53: 3, 13.21: 3, 2.37: 3, 3.98: 3, 4.27: 3, 1.13: 3, 0.97: 3, 14.73: 3, 0.95: 3, 1.07: 3, 1.11: 3, 1.24: 3, 3.19: 3, 4.76: 3, 5.27: 3, 11.58: 3, 7.02: 3, 3.08: 3, 1.98: 3, 1.04: 3, 1.55: 3, 6.89: 3, 3.9: 3, 5.02: 3, 4.09: 3, 1.19: 3, 4.8: 3, 4.18: 3, 1.49: 3, 9.4: 3, 3.2: 3, 7.97: 3, 23.8: 3, 11.78: 3, 7.51: 3, 2.15: 3, 9.91: 3, 27.57: 3, 7.29: 3, 13.64: 3, 7.25: 3, 2.91: 3, 20.24: 3, 13.32: 3, 4.38: 3, 3.54: 3, 6.47: 3, 1.56: 3, 8.04: 3, 25.46: 3, 3.74: 3, 2.49: 3, 5.04: 3, 5.36: 3, 2.38: 3, 3.28: 3, 4.04: 3, 3.86: 3, 5.69: 3, 6.01: 3, 5.21: 3, 4.7: 3, 10.92: 3, 7.62: 3, 11.23: 3, 9.42: 3, 10.16: 3, 9.15: 3, 3.75: 3, 1.82: 3, 5.62: 3, 3.1: 3, 2.6: 3, 1.45: 3, 2.26: 3, 2.48: 3, 5.12: 3, 1.01: 3, 4.79: 3, 5.19: 3, 3.39: 2, 0.46: 2, 9.14: 2, 3.56: 2, 16.0: 2, 1.96: 2, 4.39: 2, 28.7: 2, 0.83: 2, 0.72: 2, 0.31: 2, 0.26: 2, 0.58: 2, 1.08: 2, 1.71: 2, 2.21: 2, 0.62: 2, 1.12: 2, 1.46: 2, 1.32: 2, 0.87: 2, 7.39: 2, 1.83: 2, 0.5: 2, 0.77: 2, 2.98: 2, 4.43: 2, 6.45: 2, 1.76: 2, 7.77: 2, 8.89: 2, 15.41: 2, 5.25: 2, 8.02: 2, 12.7: 2, 1.03: 2, 5.86: 2, 7.87: 2, 1.67: 2, 3.09: 2, 1.51: 2, 7.72: 2, 4.64: 2, 2.06: 2, 2.4: 2, 2.96: 2, 6.48: 2, 5.89: 2, 2.39: 2, 2.88: 2, 3.4: 2, 1.29: 1, 44.45: 1, 55.63: 1, 18.8: 1, 0.37: 1, 0.67: 1, 1.87: 1, 0.33: 1, 2.13: 1, 1.63: 1, 1.38: 1, 2.35: 1, 2.11: 1, 2.53: 1, 0.92: 1, 1.22: 1, 1.05: 1, 2.31: 1, 3.17: 1, 2.14: 1, 2.34: 1, 1.61: 1, 5.58: 1, 5.11: 1, 5.1: 1, 4.53: 1, 1.25: 1, 4.5: 1, 3.47: 1, 0.45: 1, 2.18: 1, 2.84: 1, 2.93: 1, 2.87: 1, 2.8: 1, 0.74: 1, 1.28: 1, 1.47: 1, 4.66: 1, 2.08: 1, 3.12: 1, 1.53: 1, 3.25: 1, 1.9: 1, 12.45: 1, 1.37: 1, 2.78: 1, 1.31: 1, 3.44: 1, 2.75: 1, 2.19: 1, 1.59: 1, 5.73: 1, 5.93: 1, 3.91: 1, 18.03: 1, 1.88: 1, 3.01: 1, 2.12: 1, 0.73: 1, 11.59: 1, 2.33: 1, 5.52: 1, 1.93: 1, 2.68: 1, 10.05: 1, 7.7: 1, 4.05: 1, 3.8: 1, 9831.3: 1, 16.51: 1, 12.83: 1, 18.42: 1, 5.06: 1, 1.95: 1, 9.0: 1, 8.86: 1, 5.99: 1, 8.0: 1, 31.75: 1, 5.41: 1, 2.83: 1, 15.75: 1, 3.64: 1, 7.13: 1, 1.16: 1, 7.05: 1, 2.73: 1, nan: 1, nan: 1})\n",
            "Counter({0.0: 48129, 0.05: 14, 0.06: 12, 0.51: 6, 0.25: 6, 0.13: 6, 0.1: 6, 0.32: 5, 0.17: 3, 0.44: 2, 0.08: 2, nan: 1, nan: 1, nan: 1, nan: 1, nan: 1, nan: 1, nan: 1, nan: 1, nan: 1, nan: 1, nan: 1, 0.21: 1, nan: 1})\n"
          ]
        }
      ],
      "source": [
        "from collections import Counter\n",
        "print(Counter(data['rain']))\n",
        "print(Counter(data['snow']))"
      ]
    },
    {
      "cell_type": "code",
      "execution_count": null,
      "metadata": {
        "id": "r2zh1c_xvjlY"
      },
      "outputs": [],
      "source": [
        "data['temp'].fillna(data['temp'].mean(),inplace=True)\n",
        "data['rain'].fillna(data['rain'].mean(),inplace=True)\n",
        "data['snow'].fillna(data['snow'].mean(),inplace=True)"
      ]
    },
    {
      "cell_type": "code",
      "execution_count": 169,
      "metadata": {
        "id": "z8axMRsHwJK7"
      },
      "outputs": [
        {
          "name": "stdout",
          "output_type": "stream",
          "text": [
            "Counter({'Clouds': 15144, 'Clear': 13383, 'Mist': 5942, 'Rain': 5665, 'Snow': 2875, 'Drizzle': 1818, 'Haze': 1359, 'Thunderstorm': 1033, 'Fog': 912, nan: 49, 'Smoke': 20, 'Squall': 4})\n"
          ]
        }
      ],
      "source": [
        "print(Counter(data['weather']))"
      ]
    },
    {
      "cell_type": "code",
      "execution_count": null,
      "metadata": {
        "id": "k7R3Nn9cwXzG"
      },
      "outputs": [],
      "source": [
        "data['weather'].fillna('Clouds',inplace = True)"
      ]
    },
    {
      "cell_type": "code",
      "execution_count": 171,
      "metadata": {
        "id": "aY4i0VA1wtIl"
      },
      "outputs": [
        {
          "data": {
            "text/plain": [
              "holiday           48143\n",
              "temp                  0\n",
              "rain                  0\n",
              "snow                  0\n",
              "weather               0\n",
              "date                  0\n",
              "Time                  0\n",
              "traffic_volume        0\n",
              "dtype: int64"
            ]
          },
          "execution_count": 171,
          "metadata": {},
          "output_type": "execute_result"
        }
      ],
      "source": [
        "data.isnull().sum()"
      ]
    },
    {
      "cell_type": "code",
      "execution_count": 172,
      "metadata": {
        "id": "-YCxHOy2xJhJ"
      },
      "outputs": [],
      "source": [
        "from sklearn.preprocessing import LabelEncoder\n",
        "le = LabelEncoder()\n",
        "data['weather'] = le.fit_transform(data['weather'])\n",
        "data['holiday'] = le.fit_transform(data['holiday'])"
      ]
    },
    {
      "cell_type": "code",
      "execution_count": 173,
      "metadata": {},
      "outputs": [],
      "source": [
        "#splitting the date into year, month, day\n",
        "data[[\"day\",\"month\",\"year\"]] = data[\"date\"].str.split(\"-\", expand = True)"
      ]
    },
    {
      "cell_type": "code",
      "execution_count": 175,
      "metadata": {},
      "outputs": [],
      "source": [
        "#splitting the time into hours, minutes, seconds\n",
        "data[[\"hours\",\"minutes\",\"seconds\"]] = data[\"Time\"].str.split(\":\", expand = True)"
      ]
    },
    {
      "cell_type": "code",
      "execution_count": 176,
      "metadata": {},
      "outputs": [],
      "source": [
        "data.drop(columns=['date','Time'],axis=1,inplace=True)"
      ]
    },
    {
      "cell_type": "code",
      "execution_count": 177,
      "metadata": {
        "id": "Q9QNWgi7zELF"
      },
      "outputs": [
        {
          "data": {
            "text/html": [
              "<div>\n",
              "<style scoped>\n",
              "    .dataframe tbody tr th:only-of-type {\n",
              "        vertical-align: middle;\n",
              "    }\n",
              "\n",
              "    .dataframe tbody tr th {\n",
              "        vertical-align: top;\n",
              "    }\n",
              "\n",
              "    .dataframe thead th {\n",
              "        text-align: right;\n",
              "    }\n",
              "</style>\n",
              "<table border=\"1\" class=\"dataframe\">\n",
              "  <thead>\n",
              "    <tr style=\"text-align: right;\">\n",
              "      <th></th>\n",
              "      <th>holiday</th>\n",
              "      <th>temp</th>\n",
              "      <th>rain</th>\n",
              "      <th>snow</th>\n",
              "      <th>weather</th>\n",
              "      <th>traffic_volume</th>\n",
              "      <th>day</th>\n",
              "      <th>month</th>\n",
              "      <th>year</th>\n",
              "      <th>hours</th>\n",
              "      <th>minutes</th>\n",
              "      <th>seconds</th>\n",
              "    </tr>\n",
              "  </thead>\n",
              "  <tbody>\n",
              "    <tr>\n",
              "      <th>0</th>\n",
              "      <td>11</td>\n",
              "      <td>288.28</td>\n",
              "      <td>0.0</td>\n",
              "      <td>0.0</td>\n",
              "      <td>1</td>\n",
              "      <td>5545</td>\n",
              "      <td>02</td>\n",
              "      <td>10</td>\n",
              "      <td>2012</td>\n",
              "      <td>09</td>\n",
              "      <td>00</td>\n",
              "      <td>00</td>\n",
              "    </tr>\n",
              "    <tr>\n",
              "      <th>1</th>\n",
              "      <td>11</td>\n",
              "      <td>289.36</td>\n",
              "      <td>0.0</td>\n",
              "      <td>0.0</td>\n",
              "      <td>1</td>\n",
              "      <td>4516</td>\n",
              "      <td>02</td>\n",
              "      <td>10</td>\n",
              "      <td>2012</td>\n",
              "      <td>10</td>\n",
              "      <td>00</td>\n",
              "      <td>00</td>\n",
              "    </tr>\n",
              "    <tr>\n",
              "      <th>2</th>\n",
              "      <td>11</td>\n",
              "      <td>289.58</td>\n",
              "      <td>0.0</td>\n",
              "      <td>0.0</td>\n",
              "      <td>1</td>\n",
              "      <td>4767</td>\n",
              "      <td>02</td>\n",
              "      <td>10</td>\n",
              "      <td>2012</td>\n",
              "      <td>11</td>\n",
              "      <td>00</td>\n",
              "      <td>00</td>\n",
              "    </tr>\n",
              "    <tr>\n",
              "      <th>3</th>\n",
              "      <td>11</td>\n",
              "      <td>290.13</td>\n",
              "      <td>0.0</td>\n",
              "      <td>0.0</td>\n",
              "      <td>1</td>\n",
              "      <td>5026</td>\n",
              "      <td>02</td>\n",
              "      <td>10</td>\n",
              "      <td>2012</td>\n",
              "      <td>12</td>\n",
              "      <td>00</td>\n",
              "      <td>00</td>\n",
              "    </tr>\n",
              "    <tr>\n",
              "      <th>4</th>\n",
              "      <td>11</td>\n",
              "      <td>291.14</td>\n",
              "      <td>0.0</td>\n",
              "      <td>0.0</td>\n",
              "      <td>1</td>\n",
              "      <td>4918</td>\n",
              "      <td>02</td>\n",
              "      <td>10</td>\n",
              "      <td>2012</td>\n",
              "      <td>13</td>\n",
              "      <td>00</td>\n",
              "      <td>00</td>\n",
              "    </tr>\n",
              "  </tbody>\n",
              "</table>\n",
              "</div>"
            ],
            "text/plain": [
              "   holiday    temp  rain  snow  weather  traffic_volume day month  year hours  \\\n",
              "0       11  288.28   0.0   0.0        1            5545  02    10  2012    09   \n",
              "1       11  289.36   0.0   0.0        1            4516  02    10  2012    10   \n",
              "2       11  289.58   0.0   0.0        1            4767  02    10  2012    11   \n",
              "3       11  290.13   0.0   0.0        1            5026  02    10  2012    12   \n",
              "4       11  291.14   0.0   0.0        1            4918  02    10  2012    13   \n",
              "\n",
              "  minutes seconds  \n",
              "0      00      00  \n",
              "1      00      00  \n",
              "2      00      00  \n",
              "3      00      00  \n",
              "4      00      00  "
            ]
          },
          "execution_count": 177,
          "metadata": {},
          "output_type": "execute_result"
        }
      ],
      "source": [
        "data.head()"
      ]
    },
    {
      "cell_type": "code",
      "execution_count": 178,
      "metadata": {
        "id": "4TNCXuEpjOoj"
      },
      "outputs": [
        {
          "data": {
            "text/plain": [
              "holiday           0\n",
              "temp              0\n",
              "rain              0\n",
              "snow              0\n",
              "weather           0\n",
              "traffic_volume    0\n",
              "day               0\n",
              "month             0\n",
              "year              0\n",
              "hours             0\n",
              "minutes           0\n",
              "seconds           0\n",
              "dtype: int64"
            ]
          },
          "execution_count": 178,
          "metadata": {},
          "output_type": "execute_result"
        }
      ],
      "source": [
        "data.isnull().sum()"
      ]
    },
    {
      "cell_type": "markdown",
      "metadata": {},
      "source": [
        "***DATA VISUALISATION***"
      ]
    },
    {
      "cell_type": "code",
      "execution_count": 179,
      "metadata": {},
      "outputs": [
        {
          "data": {
            "image/png": "[encoded data removed]",
            "text/plain": [
              "<Figure size 640x480 with 2 Axes>"
            ]
          },
          "metadata": {},
          "output_type": "display_data"
        }
      ],
      "source": [
        "import seaborn as sns\n",
        "dataplot = sns.heatmap(data.corr())"
      ]
    },
    {
      "cell_type": "code",
      "execution_count": 181,
      "metadata": {},
      "outputs": [
        {
          "data": {
            "text/plain": [
              "<seaborn.axisgrid.PairGrid at 0x1cce5344500>"
            ]
          },
          "execution_count": 181,
          "metadata": {},
          "output_type": "execute_result"
        },
        {
          "data": {
            "image/png": "[encoded data removed]",
            "text/plain": [
              "<Figure size 1500x1500 with 42 Axes>"
            ]
          },
          "metadata": {},
          "output_type": "display_data"
        }
      ],
      "source": [
        "sns.pairplot(data)"
      ]
    },
    {
      "cell_type": "code",
      "execution_count": 184,
      "metadata": {
        "id": "h47vhAYhP4TG"
      },
      "outputs": [
        {
          "data": {
            "text/plain": [
              "<Axes: >"
            ]
          },
          "execution_count": 184,
          "metadata": {},
          "output_type": "execute_result"
        },
        {
          "data": {
            "image/png": "[encoded data removed]",
            "text/plain": [
              "<Figure size 640x480 with 1 Axes>"
            ]
          },
          "metadata": {},
          "output_type": "display_data"
        }
      ],
      "source": [
        "data.boxplot()"
      ]
    },
    {
      "cell_type": "code",
      "execution_count": 185,
      "metadata": {},
      "outputs": [
        {
          "data": {
            "text/plain": [
              "<Axes: ylabel='traffic_volume'>"
            ]
          },
          "execution_count": 185,
          "metadata": {},
          "output_type": "execute_result"
        },
        {
          "data": {
            "image/png": "[encoded data removed]",
            "text/plain": [
              "<Figure size 640x480 with 1 Axes>"
            ]
          },
          "metadata": {},
          "output_type": "display_data"
        }
      ],
      "source": [
        "sns.boxplot(data['traffic_volume'])"
      ]
    },
    {
      "cell_type": "code",
      "execution_count": 186,
      "metadata": {
        "id": "9CFNvShuxjmh"
      },
      "outputs": [
        {
          "data": {
            "text/html": [
              "<div>\n",
              "<style scoped>\n",
              "    .dataframe tbody tr th:only-of-type {\n",
              "        vertical-align: middle;\n",
              "    }\n",
              "\n",
              "    .dataframe tbody tr th {\n",
              "        vertical-align: top;\n",
              "    }\n",
              "\n",
              "    .dataframe thead th {\n",
              "        text-align: right;\n",
              "    }\n",
              "</style>\n",
              "<table border=\"1\" class=\"dataframe\">\n",
              "  <thead>\n",
              "    <tr style=\"text-align: right;\">\n",
              "      <th></th>\n",
              "      <th>holiday</th>\n",
              "      <th>temp</th>\n",
              "      <th>rain</th>\n",
              "      <th>snow</th>\n",
              "      <th>weather</th>\n",
              "      <th>traffic_volume</th>\n",
              "      <th>day</th>\n",
              "      <th>month</th>\n",
              "      <th>year</th>\n",
              "      <th>hours</th>\n",
              "      <th>minutes</th>\n",
              "      <th>seconds</th>\n",
              "    </tr>\n",
              "  </thead>\n",
              "  <tbody>\n",
              "    <tr>\n",
              "      <th>0</th>\n",
              "      <td>11</td>\n",
              "      <td>288.28</td>\n",
              "      <td>0.0</td>\n",
              "      <td>0.0</td>\n",
              "      <td>1</td>\n",
              "      <td>5545</td>\n",
              "      <td>02</td>\n",
              "      <td>10</td>\n",
              "      <td>2012</td>\n",
              "      <td>09</td>\n",
              "      <td>00</td>\n",
              "      <td>00</td>\n",
              "    </tr>\n",
              "    <tr>\n",
              "      <th>1</th>\n",
              "      <td>11</td>\n",
              "      <td>289.36</td>\n",
              "      <td>0.0</td>\n",
              "      <td>0.0</td>\n",
              "      <td>1</td>\n",
              "      <td>4516</td>\n",
              "      <td>02</td>\n",
              "      <td>10</td>\n",
              "      <td>2012</td>\n",
              "      <td>10</td>\n",
              "      <td>00</td>\n",
              "      <td>00</td>\n",
              "    </tr>\n",
              "    <tr>\n",
              "      <th>2</th>\n",
              "      <td>11</td>\n",
              "      <td>289.58</td>\n",
              "      <td>0.0</td>\n",
              "      <td>0.0</td>\n",
              "      <td>1</td>\n",
              "      <td>4767</td>\n",
              "      <td>02</td>\n",
              "      <td>10</td>\n",
              "      <td>2012</td>\n",
              "      <td>11</td>\n",
              "      <td>00</td>\n",
              "      <td>00</td>\n",
              "    </tr>\n",
              "    <tr>\n",
              "      <th>3</th>\n",
              "      <td>11</td>\n",
              "      <td>290.13</td>\n",
              "      <td>0.0</td>\n",
              "      <td>0.0</td>\n",
              "      <td>1</td>\n",
              "      <td>5026</td>\n",
              "      <td>02</td>\n",
              "      <td>10</td>\n",
              "      <td>2012</td>\n",
              "      <td>12</td>\n",
              "      <td>00</td>\n",
              "      <td>00</td>\n",
              "    </tr>\n",
              "    <tr>\n",
              "      <th>4</th>\n",
              "      <td>11</td>\n",
              "      <td>291.14</td>\n",
              "      <td>0.0</td>\n",
              "      <td>0.0</td>\n",
              "      <td>1</td>\n",
              "      <td>4918</td>\n",
              "      <td>02</td>\n",
              "      <td>10</td>\n",
              "      <td>2012</td>\n",
              "      <td>13</td>\n",
              "      <td>00</td>\n",
              "      <td>00</td>\n",
              "    </tr>\n",
              "  </tbody>\n",
              "</table>\n",
              "</div>"
            ],
            "text/plain": [
              "   holiday    temp  rain  snow  weather  traffic_volume day month  year hours  \\\n",
              "0       11  288.28   0.0   0.0        1            5545  02    10  2012    09   \n",
              "1       11  289.36   0.0   0.0        1            4516  02    10  2012    10   \n",
              "2       11  289.58   0.0   0.0        1            4767  02    10  2012    11   \n",
              "3       11  290.13   0.0   0.0        1            5026  02    10  2012    12   \n",
              "4       11  291.14   0.0   0.0        1            4918  02    10  2012    13   \n",
              "\n",
              "  minutes seconds  \n",
              "0      00      00  \n",
              "1      00      00  \n",
              "2      00      00  \n",
              "3      00      00  \n",
              "4      00      00  "
            ]
          },
          "execution_count": 186,
          "metadata": {},
          "output_type": "execute_result"
        }
      ],
      "source": [
        "data.head()"
      ]
    },
    {
      "cell_type": "markdown",
      "metadata": {},
      "source": [
        "***SPLITTING THE DATASET INTO DEPENDENT AND INDEPENDENT VARIABLES***"
      ]
    },
    {
      "cell_type": "code",
      "execution_count": 188,
      "metadata": {
        "id": "gFi1F0em1u4c"
      },
      "outputs": [
        {
          "data": {
            "text/plain": [
              "(48204,)"
            ]
          },
          "execution_count": 188,
          "metadata": {},
          "output_type": "execute_result"
        }
      ],
      "source": [
        "y = data['traffic_volume']\n",
        "x = data.drop(columns=[\"traffic_volume\"], axis=1)\n",
        "x.shape\n",
        "y.shape"
      ]
    },
    {
      "cell_type": "markdown",
      "metadata": {},
      "source": [
        "***FEATURE SCALING***"
      ]
    },
    {
      "cell_type": "code",
      "execution_count": 190,
      "metadata": {
        "id": "yaRM6h__2ekq"
      },
      "outputs": [],
      "source": [
        "names = x.columns"
      ]
    },
    {
      "cell_type": "code",
      "execution_count": 191,
      "metadata": {
        "id": "fcJTSNI82qUe"
      },
      "outputs": [],
      "source": [
        "from sklearn.preprocessing import scale"
      ]
    },
    {
      "cell_type": "code",
      "execution_count": 192,
      "metadata": {
        "id": "WmeVQlf_21Yd"
      },
      "outputs": [],
      "source": [
        "x = scale(x)"
      ]
    },
    {
      "cell_type": "code",
      "execution_count": 193,
      "metadata": {
        "id": "6Xs4V_1327Ph"
      },
      "outputs": [],
      "source": [
        "x = pd.DataFrame(x,columns=names)"
      ]
    },
    {
      "cell_type": "code",
      "execution_count": 194,
      "metadata": {
        "id": "rcjbX8T73KDc"
      },
      "outputs": [
        {
          "data": {
            "text/html": [
              "<div>\n",
              "<style scoped>\n",
              "    .dataframe tbody tr th:only-of-type {\n",
              "        vertical-align: middle;\n",
              "    }\n",
              "\n",
              "    .dataframe tbody tr th {\n",
              "        vertical-align: top;\n",
              "    }\n",
              "\n",
              "    .dataframe thead th {\n",
              "        text-align: right;\n",
              "    }\n",
              "</style>\n",
              "<table border=\"1\" class=\"dataframe\">\n",
              "  <thead>\n",
              "    <tr style=\"text-align: right;\">\n",
              "      <th></th>\n",
              "      <th>holiday</th>\n",
              "      <th>temp</th>\n",
              "      <th>rain</th>\n",
              "      <th>snow</th>\n",
              "      <th>weather</th>\n",
              "      <th>day</th>\n",
              "      <th>month</th>\n",
              "      <th>year</th>\n",
              "      <th>hours</th>\n",
              "      <th>minutes</th>\n",
              "      <th>seconds</th>\n",
              "    </tr>\n",
              "  </thead>\n",
              "  <tbody>\n",
              "    <tr>\n",
              "      <th>0</th>\n",
              "      <td>0.031687</td>\n",
              "      <td>0.530485</td>\n",
              "      <td>-0.007463</td>\n",
              "      <td>-0.027235</td>\n",
              "      <td>-0.566452</td>\n",
              "      <td>-1.574903</td>\n",
              "      <td>1.02758</td>\n",
              "      <td>-1.855294</td>\n",
              "      <td>-0.345548</td>\n",
              "      <td>0.0</td>\n",
              "      <td>0.0</td>\n",
              "    </tr>\n",
              "    <tr>\n",
              "      <th>1</th>\n",
              "      <td>0.031687</td>\n",
              "      <td>0.611467</td>\n",
              "      <td>-0.007463</td>\n",
              "      <td>-0.027235</td>\n",
              "      <td>-0.566452</td>\n",
              "      <td>-1.574903</td>\n",
              "      <td>1.02758</td>\n",
              "      <td>-1.855294</td>\n",
              "      <td>-0.201459</td>\n",
              "      <td>0.0</td>\n",
              "      <td>0.0</td>\n",
              "    </tr>\n",
              "    <tr>\n",
              "      <th>2</th>\n",
              "      <td>0.031687</td>\n",
              "      <td>0.627964</td>\n",
              "      <td>-0.007463</td>\n",
              "      <td>-0.027235</td>\n",
              "      <td>-0.566452</td>\n",
              "      <td>-1.574903</td>\n",
              "      <td>1.02758</td>\n",
              "      <td>-1.855294</td>\n",
              "      <td>-0.057371</td>\n",
              "      <td>0.0</td>\n",
              "      <td>0.0</td>\n",
              "    </tr>\n",
              "    <tr>\n",
              "      <th>3</th>\n",
              "      <td>0.031687</td>\n",
              "      <td>0.669205</td>\n",
              "      <td>-0.007463</td>\n",
              "      <td>-0.027235</td>\n",
              "      <td>-0.566452</td>\n",
              "      <td>-1.574903</td>\n",
              "      <td>1.02758</td>\n",
              "      <td>-1.855294</td>\n",
              "      <td>0.086718</td>\n",
              "      <td>0.0</td>\n",
              "      <td>0.0</td>\n",
              "    </tr>\n",
              "    <tr>\n",
              "      <th>4</th>\n",
              "      <td>0.031687</td>\n",
              "      <td>0.744939</td>\n",
              "      <td>-0.007463</td>\n",
              "      <td>-0.027235</td>\n",
              "      <td>-0.566452</td>\n",
              "      <td>-1.574903</td>\n",
              "      <td>1.02758</td>\n",
              "      <td>-1.855294</td>\n",
              "      <td>0.230807</td>\n",
              "      <td>0.0</td>\n",
              "      <td>0.0</td>\n",
              "    </tr>\n",
              "  </tbody>\n",
              "</table>\n",
              "</div>"
            ],
            "text/plain": [
              "    holiday      temp      rain      snow   weather       day    month  \\\n",
              "0  0.031687  0.530485 -0.007463 -0.027235 -0.566452 -1.574903  1.02758   \n",
              "1  0.031687  0.611467 -0.007463 -0.027235 -0.566452 -1.574903  1.02758   \n",
              "2  0.031687  0.627964 -0.007463 -0.027235 -0.566452 -1.574903  1.02758   \n",
              "3  0.031687  0.669205 -0.007463 -0.027235 -0.566452 -1.574903  1.02758   \n",
              "4  0.031687  0.744939 -0.007463 -0.027235 -0.566452 -1.574903  1.02758   \n",
              "\n",
              "       year     hours  minutes  seconds  \n",
              "0 -1.855294 -0.345548      0.0      0.0  \n",
              "1 -1.855294 -0.201459      0.0      0.0  \n",
              "2 -1.855294 -0.057371      0.0      0.0  \n",
              "3 -1.855294  0.086718      0.0      0.0  \n",
              "4 -1.855294  0.230807      0.0      0.0  "
            ]
          },
          "execution_count": 194,
          "metadata": {},
          "output_type": "execute_result"
        }
      ],
      "source": [
        "x.head()"
      ]
    },
    {
      "cell_type": "markdown",
      "metadata": {},
      "source": [
        "***SPLITTING THE DATA INTO TRAIN AND TEST***"
      ]
    },
    {
      "cell_type": "code",
      "execution_count": 195,
      "metadata": {
        "id": "sVi6nQEx3UlF"
      },
      "outputs": [],
      "source": [
        "from sklearn.model_selection import train_test_split\n",
        "#Assuming you have 'x' as your independent variables and 'y' as your dependent variable\n",
        "#Split the dataset into training and test sets\n",
        "x_train,x_test,y_train,y_test = train_test_split(x,y,test_size = 0.2, random_state=0)"
      ]
    },
    {
      "cell_type": "markdown",
      "metadata": {},
      "source": [
        "***MODEL BUILDING***"
      ]
    },
    {
      "cell_type": "code",
      "execution_count": 198,
      "metadata": {
        "id": "jUEvj1ar41Kf"
      },
      "outputs": [],
      "source": [
        "#initialise the model\n",
        "from sklearn import linear_model\n",
        "from sklearn import tree\n",
        "from sklearn import ensemble\n",
        "from sklearn import svm\n",
        "import xgboost"
      ]
    },
    {
      "cell_type": "code",
      "execution_count": 199,
      "metadata": {
        "id": "gVE85Eyo5OXd"
      },
      "outputs": [],
      "source": [
        "#create and train the models\n",
        "lin_reg = linear_model.LinearRegression()\n",
        "Dtree = tree.DecisionTreeRegressor()\n",
        "Rand = ensemble.RandomForestRegressor()\n",
        "svr = svm.SVR()\n",
        "XGB = xgboost.XGBRegressor()"
      ]
    },
    {
      "cell_type": "code",
      "execution_count": 200,
      "metadata": {
        "id": "rIox-p216J9e"
      },
      "outputs": [
        {
          "data": {
            "text/html": [
              "<style>#sk-container-id-2 {\n",
              "  /* Definition of color scheme common for light and dark mode */\n",
              "  --sklearn-color-text: black;\n",
              "  --sklearn-color-line: gray;\n",
              "  /* Definition of color scheme for unfitted estimators */\n",
              "  --sklearn-color-unfitted-level-0: #fff5e6;\n",
              "  --sklearn-color-unfitted-level-1: #f6e4d2;\n",
              "  --sklearn-color-unfitted-level-2: #ffe0b3;\n",
              "  --sklearn-color-unfitted-level-3: chocolate;\n",
              "  /* Definition of color scheme for fitted estimators */\n",
              "  --sklearn-color-fitted-level-0: #f0f8ff;\n",
              "  --sklearn-color-fitted-level-1: #d4ebff;\n",
              "  --sklearn-color-fitted-level-2: #b3dbfd;\n",
              "  --sklearn-color-fitted-level-3: cornflowerblue;\n",
              "\n",
              "  /* Specific color for light theme */\n",
              "  --sklearn-color-text-on-default-background: var(--sg-text-color, var(--theme-code-foreground, var(--jp-content-font-color1, black)));\n",
              "  --sklearn-color-background: var(--sg-background-color, var(--theme-background, var(--jp-layout-color0, white)));\n",
              "  --sklearn-color-border-box: var(--sg-text-color, var(--theme-code-foreground, var(--jp-content-font-color1, black)));\n",
              "  --sklearn-color-icon: #696969;\n",
              "\n",
              "  @media (prefers-color-scheme: dark) {\n",
              "    /* Redefinition of color scheme for dark theme */\n",
              "    --sklearn-color-text-on-default-background: var(--sg-text-color, var(--theme-code-foreground, var(--jp-content-font-color1, white)));\n",
              "    --sklearn-color-background: var(--sg-background-color, var(--theme-background, var(--jp-layout-color0, #111)));\n",
              "    --sklearn-color-border-box: var(--sg-text-color, var(--theme-code-foreground, var(--jp-content-font-color1, white)));\n",
              "    --sklearn-color-icon: #878787;\n",
              "  }\n",
              "}\n",
              "\n",
              "#sk-container-id-2 {\n",
              "  color: var(--sklearn-color-text);\n",
              "}\n",
              "\n",
              "#sk-container-id-2 pre {\n",
              "  padding: 0;\n",
              "}\n",
              "\n",
              "#sk-container-id-2 input.sk-hidden--visually {\n",
              "  border: 0;\n",
              "  clip: rect(1px 1px 1px 1px);\n",
              "  clip: rect(1px, 1px, 1px, 1px);\n",
              "  height: 1px;\n",
              "  margin: -1px;\n",
              "  overflow: hidden;\n",
              "  padding: 0;\n",
              "  position: absolute;\n",
              "  width: 1px;\n",
              "}\n",
              "\n",
              "#sk-container-id-2 div.sk-dashed-wrapped {\n",
              "  border: 1px dashed var(--sklearn-color-line);\n",
              "  margin: 0 0.4em 0.5em 0.4em;\n",
              "  box-sizing: border-box;\n",
              "  padding-bottom: 0.4em;\n",
              "  background-color: var(--sklearn-color-background);\n",
              "}\n",
              "\n",
              "#sk-container-id-2 div.sk-container {\n",
              "  /* jupyter's `normalize.less` sets `[hidden] { display: none; }`\n",
              "     but bootstrap.min.css set `[hidden] { display: none !important; }`\n",
              "     so we also need the `!important` here to be able to override the\n",
              "     default hidden behavior on the sphinx rendered scikit-learn.org.\n",
              "     See: https://github.com/scikit-learn/scikit-learn/issues/21755 */\n",
              "  display: inline-block !important;\n",
              "  position: relative;\n",
              "}\n",
              "\n",
              "#sk-container-id-2 div.sk-text-repr-fallback {\n",
              "  display: none;\n",
              "}\n",
              "\n",
              "div.sk-parallel-item,\n",
              "div.sk-serial,\n",
              "div.sk-item {\n",
              "  /* draw centered vertical line to link estimators */\n",
              "  background-image: linear-gradient(var(--sklearn-color-text-on-default-background), var(--sklearn-color-text-on-default-background));\n",
              "  background-size: 2px 100%;\n",
              "  background-repeat: no-repeat;\n",
              "  background-position: center center;\n",
              "}\n",
              "\n",
              "/* Parallel-specific style estimator block */\n",
              "\n",
              "#sk-container-id-2 div.sk-parallel-item::after {\n",
              "  content: \"\";\n",
              "  width: 100%;\n",
              "  border-bottom: 2px solid var(--sklearn-color-text-on-default-background);\n",
              "  flex-grow: 1;\n",
              "}\n",
              "\n",
              "#sk-container-id-2 div.sk-parallel {\n",
              "  display: flex;\n",
              "  align-items: stretch;\n",
              "  justify-content: center;\n",
              "  background-color: var(--sklearn-color-background);\n",
              "  position: relative;\n",
              "}\n",
              "\n",
              "#sk-container-id-2 div.sk-parallel-item {\n",
              "  display: flex;\n",
              "  flex-direction: column;\n",
              "}\n",
              "\n",
              "#sk-container-id-2 div.sk-parallel-item:first-child::after {\n",
              "  align-self: flex-end;\n",
              "  width: 50%;\n",
              "}\n",
              "\n",
              "#sk-container-id-2 div.sk-parallel-item:last-child::after {\n",
              "  align-self: flex-start;\n",
              "  width: 50%;\n",
              "}\n",
              "\n",
              "#sk-container-id-2 div.sk-parallel-item:only-child::after {\n",
              "  width: 0;\n",
              "}\n",
              "\n",
              "/* Serial-specific style estimator block */\n",
              "\n",
              "#sk-container-id-2 div.sk-serial {\n",
              "  display: flex;\n",
              "  flex-direction: column;\n",
              "  align-items: center;\n",
              "  background-color: var(--sklearn-color-background);\n",
              "  padding-right: 1em;\n",
              "  padding-left: 1em;\n",
              "}\n",
              "\n",
              "\n",
              "/* Toggleable style: style used for estimator/Pipeline/ColumnTransformer box that is\n",
              "clickable and can be expanded/collapsed.\n",
              "- Pipeline and ColumnTransformer use this feature and define the default style\n",
              "- Estimators will overwrite some part of the style using the `sk-estimator` class\n",
              "*/\n",
              "\n",
              "/* Pipeline and ColumnTransformer style (default) */\n",
              "\n",
              "#sk-container-id-2 div.sk-toggleable {\n",
              "  /* Default theme specific background. It is overwritten whether we have a\n",
              "  specific estimator or a Pipeline/ColumnTransformer */\n",
              "  background-color: var(--sklearn-color-background);\n",
              "}\n",
              "\n",
              "/* Toggleable label */\n",
              "#sk-container-id-2 label.sk-toggleable__label {\n",
              "  cursor: pointer;\n",
              "  display: block;\n",
              "  width: 100%;\n",
              "  margin-bottom: 0;\n",
              "  padding: 0.5em;\n",
              "  box-sizing: border-box;\n",
              "  text-align: center;\n",
              "}\n",
              "\n",
              "#sk-container-id-2 label.sk-toggleable__label-arrow:before {\n",
              "  /* Arrow on the left of the label */\n",
              "  content: \"▸\";\n",
              "  float: left;\n",
              "  margin-right: 0.25em;\n",
              "  color: var(--sklearn-color-icon);\n",
              "}\n",
              "\n",
              "#sk-container-id-2 label.sk-toggleable__label-arrow:hover:before {\n",
              "  color: var(--sklearn-color-text);\n",
              "}\n",
              "\n",
              "/* Toggleable content - dropdown */\n",
              "\n",
              "#sk-container-id-2 div.sk-toggleable__content {\n",
              "  max-height: 0;\n",
              "  max-width: 0;\n",
              "  overflow: hidden;\n",
              "  text-align: left;\n",
              "  /* unfitted */\n",
              "  background-color: var(--sklearn-color-unfitted-level-0);\n",
              "}\n",
              "\n",
              "#sk-container-id-2 div.sk-toggleable__content.fitted {\n",
              "  /* fitted */\n",
              "  background-color: var(--sklearn-color-fitted-level-0);\n",
              "}\n",
              "\n",
              "#sk-container-id-2 div.sk-toggleable__content pre {\n",
              "  margin: 0.2em;\n",
              "  border-radius: 0.25em;\n",
              "  color: var(--sklearn-color-text);\n",
              "  /* unfitted */\n",
              "  background-color: var(--sklearn-color-unfitted-level-0);\n",
              "}\n",
              "\n",
              "#sk-container-id-2 div.sk-toggleable__content.fitted pre {\n",
              "  /* unfitted */\n",
              "  background-color: var(--sklearn-color-fitted-level-0);\n",
              "}\n",
              "\n",
              "#sk-container-id-2 input.sk-toggleable__control:checked~div.sk-toggleable__content {\n",
              "  /* Expand drop-down */\n",
              "  max-height: 200px;\n",
              "  max-width: 100%;\n",
              "  overflow: auto;\n",
              "}\n",
              "\n",
              "#sk-container-id-2 input.sk-toggleable__control:checked~label.sk-toggleable__label-arrow:before {\n",
              "  content: \"▾\";\n",
              "}\n",
              "\n",
              "/* Pipeline/ColumnTransformer-specific style */\n",
              "\n",
              "#sk-container-id-2 div.sk-label input.sk-toggleable__control:checked~label.sk-toggleable__label {\n",
              "  color: var(--sklearn-color-text);\n",
              "  background-color: var(--sklearn-color-unfitted-level-2);\n",
              "}\n",
              "\n",
              "#sk-container-id-2 div.sk-label.fitted input.sk-toggleable__control:checked~label.sk-toggleable__label {\n",
              "  background-color: var(--sklearn-color-fitted-level-2);\n",
              "}\n",
              "\n",
              "/* Estimator-specific style */\n",
              "\n",
              "/* Colorize estimator box */\n",
              "#sk-container-id-2 div.sk-estimator input.sk-toggleable__control:checked~label.sk-toggleable__label {\n",
              "  /* unfitted */\n",
              "  background-color: var(--sklearn-color-unfitted-level-2);\n",
              "}\n",
              "\n",
              "#sk-container-id-2 div.sk-estimator.fitted input.sk-toggleable__control:checked~label.sk-toggleable__label {\n",
              "  /* fitted */\n",
              "  background-color: var(--sklearn-color-fitted-level-2);\n",
              "}\n",
              "\n",
              "#sk-container-id-2 div.sk-label label.sk-toggleable__label,\n",
              "#sk-container-id-2 div.sk-label label {\n",
              "  /* The background is the default theme color */\n",
              "  color: var(--sklearn-color-text-on-default-background);\n",
              "}\n",
              "\n",
              "/* On hover, darken the color of the background */\n",
              "#sk-container-id-2 div.sk-label:hover label.sk-toggleable__label {\n",
              "  color: var(--sklearn-color-text);\n",
              "  background-color: var(--sklearn-color-unfitted-level-2);\n",
              "}\n",
              "\n",
              "/* Label box, darken color on hover, fitted */\n",
              "#sk-container-id-2 div.sk-label.fitted:hover label.sk-toggleable__label.fitted {\n",
              "  color: var(--sklearn-color-text);\n",
              "  background-color: var(--sklearn-color-fitted-level-2);\n",
              "}\n",
              "\n",
              "/* Estimator label */\n",
              "\n",
              "#sk-container-id-2 div.sk-label label {\n",
              "  font-family: monospace;\n",
              "  font-weight: bold;\n",
              "  display: inline-block;\n",
              "  line-height: 1.2em;\n",
              "}\n",
              "\n",
              "#sk-container-id-2 div.sk-label-container {\n",
              "  text-align: center;\n",
              "}\n",
              "\n",
              "/* Estimator-specific */\n",
              "#sk-container-id-2 div.sk-estimator {\n",
              "  font-family: monospace;\n",
              "  border: 1px dotted var(--sklearn-color-border-box);\n",
              "  border-radius: 0.25em;\n",
              "  box-sizing: border-box;\n",
              "  margin-bottom: 0.5em;\n",
              "  /* unfitted */\n",
              "  background-color: var(--sklearn-color-unfitted-level-0);\n",
              "}\n",
              "\n",
              "#sk-container-id-2 div.sk-estimator.fitted {\n",
              "  /* fitted */\n",
              "  background-color: var(--sklearn-color-fitted-level-0);\n",
              "}\n",
              "\n",
              "/* on hover */\n",
              "#sk-container-id-2 div.sk-estimator:hover {\n",
              "  /* unfitted */\n",
              "  background-color: var(--sklearn-color-unfitted-level-2);\n",
              "}\n",
              "\n",
              "#sk-container-id-2 div.sk-estimator.fitted:hover {\n",
              "  /* fitted */\n",
              "  background-color: var(--sklearn-color-fitted-level-2);\n",
              "}\n",
              "\n",
              "/* Specification for estimator info (e.g. \"i\" and \"?\") */\n",
              "\n",
              "/* Common style for \"i\" and \"?\" */\n",
              "\n",
              ".sk-estimator-doc-link,\n",
              "a:link.sk-estimator-doc-link,\n",
              "a:visited.sk-estimator-doc-link {\n",
              "  float: right;\n",
              "  font-size: smaller;\n",
              "  line-height: 1em;\n",
              "  font-family: monospace;\n",
              "  background-color: var(--sklearn-color-background);\n",
              "  border-radius: 1em;\n",
              "  height: 1em;\n",
              "  width: 1em;\n",
              "  text-decoration: none !important;\n",
              "  margin-left: 1ex;\n",
              "  /* unfitted */\n",
              "  border: var(--sklearn-color-unfitted-level-1) 1pt solid;\n",
              "  color: var(--sklearn-color-unfitted-level-1);\n",
              "}\n",
              "\n",
              ".sk-estimator-doc-link.fitted,\n",
              "a:link.sk-estimator-doc-link.fitted,\n",
              "a:visited.sk-estimator-doc-link.fitted {\n",
              "  /* fitted */\n",
              "  border: var(--sklearn-color-fitted-level-1) 1pt solid;\n",
              "  color: var(--sklearn-color-fitted-level-1);\n",
              "}\n",
              "\n",
              "/* On hover */\n",
              "div.sk-estimator:hover .sk-estimator-doc-link:hover,\n",
              ".sk-estimator-doc-link:hover,\n",
              "div.sk-label-container:hover .sk-estimator-doc-link:hover,\n",
              ".sk-estimator-doc-link:hover {\n",
              "  /* unfitted */\n",
              "  background-color: var(--sklearn-color-unfitted-level-3);\n",
              "  color: var(--sklearn-color-background);\n",
              "  text-decoration: none;\n",
              "}\n",
              "\n",
              "div.sk-estimator.fitted:hover .sk-estimator-doc-link.fitted:hover,\n",
              ".sk-estimator-doc-link.fitted:hover,\n",
              "div.sk-label-container:hover .sk-estimator-doc-link.fitted:hover,\n",
              ".sk-estimator-doc-link.fitted:hover {\n",
              "  /* fitted */\n",
              "  background-color: var(--sklearn-color-fitted-level-3);\n",
              "  color: var(--sklearn-color-background);\n",
              "  text-decoration: none;\n",
              "}\n",
              "\n",
              "/* Span, style for the box shown on hovering the info icon */\n",
              ".sk-estimator-doc-link span {\n",
              "  display: none;\n",
              "  z-index: 9999;\n",
              "  position: relative;\n",
              "  font-weight: normal;\n",
              "  right: .2ex;\n",
              "  padding: .5ex;\n",
              "  margin: .5ex;\n",
              "  width: min-content;\n",
              "  min-width: 20ex;\n",
              "  max-width: 50ex;\n",
              "  color: var(--sklearn-color-text);\n",
              "  box-shadow: 2pt 2pt 4pt #999;\n",
              "  /* unfitted */\n",
              "  background: var(--sklearn-color-unfitted-level-0);\n",
              "  border: .5pt solid var(--sklearn-color-unfitted-level-3);\n",
              "}\n",
              "\n",
              ".sk-estimator-doc-link.fitted span {\n",
              "  /* fitted */\n",
              "  background: var(--sklearn-color-fitted-level-0);\n",
              "  border: var(--sklearn-color-fitted-level-3);\n",
              "}\n",
              "\n",
              ".sk-estimator-doc-link:hover span {\n",
              "  display: block;\n",
              "}\n",
              "\n",
              "/* \"?\"-specific style due to the `<a>` HTML tag */\n",
              "\n",
              "#sk-container-id-2 a.estimator_doc_link {\n",
              "  float: right;\n",
              "  font-size: 1rem;\n",
              "  line-height: 1em;\n",
              "  font-family: monospace;\n",
              "  background-color: var(--sklearn-color-background);\n",
              "  border-radius: 1rem;\n",
              "  height: 1rem;\n",
              "  width: 1rem;\n",
              "  text-decoration: none;\n",
              "  /* unfitted */\n",
              "  color: var(--sklearn-color-unfitted-level-1);\n",
              "  border: var(--sklearn-color-unfitted-level-1) 1pt solid;\n",
              "}\n",
              "\n",
              "#sk-container-id-2 a.estimator_doc_link.fitted {\n",
              "  /* fitted */\n",
              "  border: var(--sklearn-color-fitted-level-1) 1pt solid;\n",
              "  color: var(--sklearn-color-fitted-level-1);\n",
              "}\n",
              "\n",
              "/* On hover */\n",
              "#sk-container-id-2 a.estimator_doc_link:hover {\n",
              "  /* unfitted */\n",
              "  background-color: var(--sklearn-color-unfitted-level-3);\n",
              "  color: var(--sklearn-color-background);\n",
              "  text-decoration: none;\n",
              "}\n",
              "\n",
              "#sk-container-id-2 a.estimator_doc_link.fitted:hover {\n",
              "  /* fitted */\n",
              "  background-color: var(--sklearn-color-fitted-level-3);\n",
              "}\n",
              "</style><div id=\"sk-container-id-2\" class=\"sk-top-container\"><div class=\"sk-text-repr-fallback\"><pre>XGBRegressor(base_score=None, booster=None, callbacks=None,\n",
              "             colsample_bylevel=None, colsample_bynode=None,\n",
              "             colsample_bytree=None, device=None, early_stopping_rounds=None,\n",
              "             enable_categorical=False, eval_metric=None, feature_types=None,\n",
              "             gamma=None, grow_policy=None, importance_type=None,\n",
              "             interaction_constraints=None, learning_rate=None, max_bin=None,\n",
              "             max_cat_threshold=None, max_cat_to_onehot=None,\n",
              "             max_delta_step=None, max_depth=None, max_leaves=None,\n",
              "             min_child_weight=None, missing=nan, monotone_constraints=None,\n",
              "             multi_strategy=None, n_estimators=None, n_jobs=None,\n",
              "             num_parallel_tree=None, random_state=None, ...)</pre><b>In a Jupyter environment, please rerun this cell to show the HTML representation or trust the notebook. <br />On GitHub, the HTML representation is unable to render, please try loading this page with nbviewer.org.</b></div><div class=\"sk-container\" hidden><div class=\"sk-item\"><div class=\"sk-estimator fitted sk-toggleable\"><input class=\"sk-toggleable__control sk-hidden--visually\" id=\"sk-estimator-id-2\" type=\"checkbox\" checked><label for=\"sk-estimator-id-2\" class=\"sk-toggleable__label fitted sk-toggleable__label-arrow fitted\">&nbsp;XGBRegressor<span class=\"sk-estimator-doc-link fitted\">i<span>Fitted</span></span></label><div class=\"sk-toggleable__content fitted\"><pre>XGBRegressor(base_score=None, booster=None, callbacks=None,\n",
              "             colsample_bylevel=None, colsample_bynode=None,\n",
              "             colsample_bytree=None, device=None, early_stopping_rounds=None,\n",
              "             enable_categorical=False, eval_metric=None, feature_types=None,\n",
              "             gamma=None, grow_policy=None, importance_type=None,\n",
              "             interaction_constraints=None, learning_rate=None, max_bin=None,\n",
              "             max_cat_threshold=None, max_cat_to_onehot=None,\n",
              "             max_delta_step=None, max_depth=None, max_leaves=None,\n",
              "             min_child_weight=None, missing=nan, monotone_constraints=None,\n",
              "             multi_strategy=None, n_estimators=None, n_jobs=None,\n",
              "             num_parallel_tree=None, random_state=None, ...)</pre></div> </div></div></div></div>"
            ],
            "text/plain": [
              "XGBRegressor(base_score=None, booster=None, callbacks=None,\n",
              "             colsample_bylevel=None, colsample_bynode=None,\n",
              "             colsample_bytree=None, device=None, early_stopping_rounds=None,\n",
              "             enable_categorical=False, eval_metric=None, feature_types=None,\n",
              "             gamma=None, grow_policy=None, importance_type=None,\n",
              "             interaction_constraints=None, learning_rate=None, max_bin=None,\n",
              "             max_cat_threshold=None, max_cat_to_onehot=None,\n",
              "             max_delta_step=None, max_depth=None, max_leaves=None,\n",
              "             min_child_weight=None, missing=nan, monotone_constraints=None,\n",
              "             multi_strategy=None, n_estimators=None, n_jobs=None,\n",
              "             num_parallel_tree=None, random_state=None, ...)"
            ]
          },
          "execution_count": 200,
          "metadata": {},
          "output_type": "execute_result"
        }
      ],
      "source": [
        "#fit models with x_train and y_train\n",
        "lin_reg.fit(x_train, y_train)\n",
        "Dtree.fit(x_train, y_train)\n",
        "Rand.fit(x_train, y_train)\n",
        "svr.fit(x_train, y_train)\n",
        "XGB.fit(x_train, y_train)"
      ]
    },
    {
      "cell_type": "code",
      "execution_count": 201,
      "metadata": {
        "id": "oBS9Y4PYPxT1"
      },
      "outputs": [],
      "source": [
        "p1 = lin_reg.predict(x_train)\n",
        "p2 = Dtree.predict(x_train)\n",
        "p3 = Rand.predict(x_train)\n",
        "p4 = svr.predict(x_train)\n",
        "p5 = XGB.predict(x_train)"
      ]
    },
    {
      "cell_type": "markdown",
      "metadata": {},
      "source": [
        "***MODEL EVALUATION***"
      ]
    },
    {
      "cell_type": "code",
      "execution_count": 202,
      "metadata": {
        "id": "Cu4vwQ6skRHQ"
      },
      "outputs": [],
      "source": [
        "from sklearn import metrics"
      ]
    },
    {
      "cell_type": "code",
      "execution_count": 203,
      "metadata": {
        "id": "aX0gFQmKlEV-"
      },
      "outputs": [
        {
          "name": "stdout",
          "output_type": "stream",
          "text": [
            "-5.501515909731913\n",
            "1.0\n",
            "0.9746272777293533\n",
            "-12.206690423423506\n",
            "0.8463600277900696\n"
          ]
        }
      ],
      "source": [
        "print(metrics.r2_score(p1, y_train))\n",
        "print(metrics.r2_score(p2, y_train))\n",
        "print(metrics.r2_score(p3, y_train))\n",
        "print(metrics.r2_score(p4, y_train))\n",
        "print(metrics.r2_score(p5, y_train))\n"
      ]
    },
    {
      "cell_type": "markdown",
      "metadata": {},
      "source": [
        "***TESTING DATA FINDING R-SCORE***"
      ]
    },
    {
      "cell_type": "code",
      "execution_count": 204,
      "metadata": {
        "id": "JkwLOp7zlrtt"
      },
      "outputs": [],
      "source": [
        "p1 = lin_reg.predict(x_test)\n",
        "p2 = Dtree.predict(x_test)\n",
        "p3 = Rand.predict(x_test)\n",
        "p4 = svr.predict(x_test)\n",
        "p5 = XGB.predict(x_test)"
      ]
    },
    {
      "cell_type": "code",
      "execution_count": 205,
      "metadata": {
        "id": "jpkJQ8__mBaY"
      },
      "outputs": [
        {
          "name": "stdout",
          "output_type": "stream",
          "text": [
            "-5.365817964773308\n",
            "0.6890266638598528\n",
            "0.8029790746895952\n",
            "-11.990577978126485\n",
            "0.8047676682472229\n"
          ]
        }
      ],
      "source": [
        "print(metrics.r2_score(p1, y_test))\n",
        "print(metrics.r2_score(p2, y_test))\n",
        "print(metrics.r2_score(p3, y_test))\n",
        "print(metrics.r2_score(p4, y_test))\n",
        "print(metrics.r2_score(p5, y_test))"
      ]
    },
    {
      "cell_type": "markdown",
      "metadata": {},
      "source": [
        "***RANDOM FOREST GIVES R-SCORE***"
      ]
    },
    {
      "cell_type": "code",
      "execution_count": 206,
      "metadata": {
        "id": "Z7jHPT4dmjBi"
      },
      "outputs": [],
      "source": [
        "MSE = metrics.mean_squared_error(p3,y_test)"
      ]
    },
    {
      "cell_type": "code",
      "execution_count": 208,
      "metadata": {
        "id": "m7t-sP8pmtGT"
      },
      "outputs": [
        {
          "data": {
            "text/plain": [
              "np.float64(798.6033288585687)"
            ]
          },
          "execution_count": 208,
          "metadata": {},
          "output_type": "execute_result"
        }
      ],
      "source": [
        "np.sqrt(MSE)"
      ]
    },
    {
      "cell_type": "markdown",
      "metadata": {},
      "source": [
        "***SAVING THE MODEL***"
      ]
    },
    {
      "cell_type": "code",
      "execution_count": 209,
      "metadata": {
        "id": "D3URDt9amx_R"
      },
      "outputs": [],
      "source": [
        "import pickle"
      ]
    },
    {
      "cell_type": "code",
      "execution_count": 210,
      "metadata": {
        "id": "MGmODArlm2o3"
      },
      "outputs": [],
      "source": [
        "pickle.dump(Rand,open(\"model.pkl\",'wb'))\n",
        "pickle.dump(le,open(\"encoder.pkl\",'wb'))"
      ]
    },
    {
      "cell_type": "code",
      "execution_count": 211,
      "metadata": {
        "id": "BNfvjqSqnNFZ"
      },
      "outputs": [
        {
          "data": {
            "text/html": [
              "<div>\n",
              "<style scoped>\n",
              "    .dataframe tbody tr th:only-of-type {\n",
              "        vertical-align: middle;\n",
              "    }\n",
              "\n",
              "    .dataframe tbody tr th {\n",
              "        vertical-align: top;\n",
              "    }\n",
              "\n",
              "    .dataframe thead th {\n",
              "        text-align: right;\n",
              "    }\n",
              "</style>\n",
              "<table border=\"1\" class=\"dataframe\">\n",
              "  <thead>\n",
              "    <tr style=\"text-align: right;\">\n",
              "      <th></th>\n",
              "      <th>holiday</th>\n",
              "      <th>temp</th>\n",
              "      <th>rain</th>\n",
              "      <th>snow</th>\n",
              "      <th>weather</th>\n",
              "      <th>day</th>\n",
              "      <th>month</th>\n",
              "      <th>year</th>\n",
              "      <th>hours</th>\n",
              "      <th>minutes</th>\n",
              "      <th>seconds</th>\n",
              "    </tr>\n",
              "  </thead>\n",
              "  <tbody>\n",
              "    <tr>\n",
              "      <th>0</th>\n",
              "      <td>0.031687</td>\n",
              "      <td>0.530485</td>\n",
              "      <td>-0.007463</td>\n",
              "      <td>-0.027235</td>\n",
              "      <td>-0.566452</td>\n",
              "      <td>-1.574903</td>\n",
              "      <td>1.02758</td>\n",
              "      <td>-1.855294</td>\n",
              "      <td>-0.345548</td>\n",
              "      <td>0.0</td>\n",
              "      <td>0.0</td>\n",
              "    </tr>\n",
              "    <tr>\n",
              "      <th>1</th>\n",
              "      <td>0.031687</td>\n",
              "      <td>0.611467</td>\n",
              "      <td>-0.007463</td>\n",
              "      <td>-0.027235</td>\n",
              "      <td>-0.566452</td>\n",
              "      <td>-1.574903</td>\n",
              "      <td>1.02758</td>\n",
              "      <td>-1.855294</td>\n",
              "      <td>-0.201459</td>\n",
              "      <td>0.0</td>\n",
              "      <td>0.0</td>\n",
              "    </tr>\n",
              "    <tr>\n",
              "      <th>2</th>\n",
              "      <td>0.031687</td>\n",
              "      <td>0.627964</td>\n",
              "      <td>-0.007463</td>\n",
              "      <td>-0.027235</td>\n",
              "      <td>-0.566452</td>\n",
              "      <td>-1.574903</td>\n",
              "      <td>1.02758</td>\n",
              "      <td>-1.855294</td>\n",
              "      <td>-0.057371</td>\n",
              "      <td>0.0</td>\n",
              "      <td>0.0</td>\n",
              "    </tr>\n",
              "    <tr>\n",
              "      <th>3</th>\n",
              "      <td>0.031687</td>\n",
              "      <td>0.669205</td>\n",
              "      <td>-0.007463</td>\n",
              "      <td>-0.027235</td>\n",
              "      <td>-0.566452</td>\n",
              "      <td>-1.574903</td>\n",
              "      <td>1.02758</td>\n",
              "      <td>-1.855294</td>\n",
              "      <td>0.086718</td>\n",
              "      <td>0.0</td>\n",
              "      <td>0.0</td>\n",
              "    </tr>\n",
              "    <tr>\n",
              "      <th>4</th>\n",
              "      <td>0.031687</td>\n",
              "      <td>0.744939</td>\n",
              "      <td>-0.007463</td>\n",
              "      <td>-0.027235</td>\n",
              "      <td>-0.566452</td>\n",
              "      <td>-1.574903</td>\n",
              "      <td>1.02758</td>\n",
              "      <td>-1.855294</td>\n",
              "      <td>0.230807</td>\n",
              "      <td>0.0</td>\n",
              "      <td>0.0</td>\n",
              "    </tr>\n",
              "  </tbody>\n",
              "</table>\n",
              "</div>"
            ],
            "text/plain": [
              "    holiday      temp      rain      snow   weather       day    month  \\\n",
              "0  0.031687  0.530485 -0.007463 -0.027235 -0.566452 -1.574903  1.02758   \n",
              "1  0.031687  0.611467 -0.007463 -0.027235 -0.566452 -1.574903  1.02758   \n",
              "2  0.031687  0.627964 -0.007463 -0.027235 -0.566452 -1.574903  1.02758   \n",
              "3  0.031687  0.669205 -0.007463 -0.027235 -0.566452 -1.574903  1.02758   \n",
              "4  0.031687  0.744939 -0.007463 -0.027235 -0.566452 -1.574903  1.02758   \n",
              "\n",
              "       year     hours  minutes  seconds  \n",
              "0 -1.855294 -0.345548      0.0      0.0  \n",
              "1 -1.855294 -0.201459      0.0      0.0  \n",
              "2 -1.855294 -0.057371      0.0      0.0  \n",
              "3 -1.855294  0.086718      0.0      0.0  \n",
              "4 -1.855294  0.230807      0.0      0.0  "
            ]
          },
          "execution_count": 211,
          "metadata": {},
          "output_type": "execute_result"
        }
      ],
      "source": [
        "data.head()\n",
        "x.head()"
      ]
    },
    {
      "cell_type": "code",
      "execution_count": null,
      "metadata": {
        "id": "ij1bhuz3nUXi"
      },
      "outputs": [
        {
          "data": {
            "text/plain": [
              "0    5545\n",
              "1    4516\n",
              "2    4767\n",
              "3    5026\n",
              "4    4918\n",
              "Name: traffic_volume, dtype: int64"
            ]
          },
          "execution_count": 63,
          "metadata": {},
          "output_type": "execute_result"
        }
      ],
      "source": [
        "y.head()"
      ]
    },
    {
      "cell_type": "code",
      "execution_count": null,
      "metadata": {
        "id": "o5oldwP9nbi_"
      },
      "outputs": [
        {
          "data": {
            "text/plain": [
              "(48204, 8)"
            ]
          },
          "execution_count": 64,
          "metadata": {},
          "output_type": "execute_result"
        }
      ],
      "source": [
        "x.shape"
      ]
    },
    {
      "cell_type": "code",
      "execution_count": null,
      "metadata": {
        "id": "D0DAXrmengfS"
      },
      "outputs": [
        {
          "data": {
            "text/plain": [
              "(48204,)"
            ]
          },
          "execution_count": 65,
          "metadata": {},
          "output_type": "execute_result"
        }
      ],
      "source": [
        "y.shape"
      ]
    }
  ],
  "metadata": {
    "accelerator": "GPU",
    "colab": {
      "gpuType": "T4",
      "provenance": []
    },
    "kernelspec": {
      "display_name": "Python 3",
      "name": "python3"
    },
    "language_info": {
      "codemirror_mode": {
        "name": "ipython",
        "version": 3
      },
      "file_extension": ".py",
      "mimetype": "text/x-python",
      "name": "python",
      "nbconvert_exporter": "python",
      "pygments_lexer": "ipython3",
      "version": "3.12.4"
    }
  },
  "nbformat": 4,
  "nbformat_minor": 0
}
